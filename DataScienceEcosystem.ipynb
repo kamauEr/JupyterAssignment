{
    "cells": [
        {
            "metadata": {
                "collapsed": true
            },
            "cell_type": "markdown",
            "source": "# Data Science Tools and Ecosystem"
        },
        {
            "metadata": {},
            "cell_type": "markdown",
            "source": "In this notebook, Data Science Tools and Ecosystem are summarized."
        },
        {
            "metadata": {},
            "cell_type": "markdown",
            "source": "Some of the popular languages that Data Scientists use are:\n1. Python \n2. R\n3. SQL\n4. Java.\n5. Julia.\n6. Scala\n7. C/C++\n8. JavaScript"
        },
        {
            "metadata": {},
            "cell_type": "markdown",
            "source": "Some of the commonly used libraries used by Data Scientists include:\n1. TensorFlow\n2. NumPy\n3. SciPy \n4. Pandas\n5. Matplotlib \n6. Keras\n7. SciKit-Learn\n8. PyTorch\n9. Scrapy\n10. BeautifulSoup\n"
        },
        {
            "metadata": {},
            "cell_type": "markdown",
            "source": "<table >\n<tr><th >Data Science Tools <th><tr>\n<tr><td> R-studio IDE<td><tr> \n<tr><td> Jupyter Notebooks<td><tr>\n<tr><td> IBM Watson<td><tr>\n<table>"
        },
        {
            "metadata": {},
            "cell_type": "markdown",
            "source": "### Below are a few examples of evaluating arithmetic expressions in Python"
        },
        {
            "metadata": {},
            "cell_type": "code",
            "source": "# This a simple arithmetic expression to mutiply then add integers\nprint( (3*4)+5)",
            "execution_count": 2,
            "outputs": [
                {
                    "output_type": "stream",
                    "text": "17\n",
                    "name": "stdout"
                }
            ]
        },
        {
            "metadata": {},
            "cell_type": "code",
            "source": "# This will convert 200 minutes to hours by diving by 60\nans = 200 /60\nprint(\"200 minutes has \", ans , \"Hours.\")",
            "execution_count": 3,
            "outputs": [
                {
                    "output_type": "stream",
                    "text": "200 minutes has  3.3333333333333335 Hours.\n",
                    "name": "stdout"
                }
            ]
        },
        {
            "metadata": {},
            "cell_type": "markdown",
            "source": "**Objectives:**\n- List Popular Data Science Libraries\n- List Popular Data Science Languages\n- List Popular Data Science Tools.\n- Introduction to evaluating arithmetic expressions in Python. \n"
        },
        {
            "metadata": {},
            "cell_type": "markdown",
            "source": "## Author\n\nEric Kamau Gathoronjo "
        },
        {
            "metadata": {},
            "cell_type": "code",
            "source": "",
            "execution_count": null,
            "outputs": []
        }
    ],
    "metadata": {
        "kernelspec": {
            "name": "python3",
            "display_name": "Python 3.10",
            "language": "python"
        },
        "language_info": {
            "name": "python",
            "version": "3.10.6",
            "mimetype": "text/x-python",
            "codemirror_mode": {
                "name": "ipython",
                "version": 3
            },
            "pygments_lexer": "ipython3",
            "nbconvert_exporter": "python",
            "file_extension": ".py"
        }
    },
    "nbformat": 4,
    "nbformat_minor": 1
}