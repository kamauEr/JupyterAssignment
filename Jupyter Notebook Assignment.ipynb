{
    "cells": [
        {
            "metadata": {
                "collapsed": true
            },
            "cell_type": "markdown",
            "source": "# My Jupyter Notebook on IBM Watson Studio"
        },
        {
            "metadata": {},
            "cell_type": "markdown",
            "source": "<b> Eric Kamau Gathoronjo <b>"
        },
        {
            "metadata": {},
            "cell_type": "markdown",
            "source": "<i> I am interested in learning Data science because coming from a developing country, healthcare is not up to par. Learning data science will help me create models for the betterment of the community. </i>"
        },
        {
            "metadata": {},
            "cell_type": "markdown",
            "source": "### My code in cell 5 is supposed to return the power of 4 to the 4th power. "
        },
        {
            "metadata": {},
            "cell_type": "code",
            "source": "print(4**4)",
            "execution_count": 2,
            "outputs": [
                {
                    "output_type": "stream",
                    "text": "256\n",
                    "name": "stdout"
                }
            ]
        },
        {
            "metadata": {},
            "cell_type": "markdown",
            "source": "#### Horizontal Rule\n<hr> cow <hr>\n<hr> goat <hr>\n<hr> dog <hr>\n\n#### Bulleted List \n- Types of cars:\n     - Lamborghini\n     - Mercedes \n     - Ferrari\n     \n#### Numbered List\nTypes of programming languages:\n1. Python\n\n2. Javascript\n\n3. Java\n\n#### Tables\n\n<table >\n<tr><th >Name <th><th> Profession <th><th> Country <tr><tr>\n<tr><td> Eric <td><td> Marathon Runner <td><td> Kenya <td><tr> \n<tr><td> Sammy <td><td>Ship Builder <td> <td> USA <td><tr>\n<tr><td> Peter <td><td> Body Builder <td><td> China <td><tr>\n<table>\n\n#### Hyperlinks \n<a href=\"https://www.google.com\" > Link to Google </a>\n\n<a href=\"https://www.ibm.com\" > Link to IBM</a>\n\n<a href=\"https://www.microsoft.com\" > Link to Microsoft</a>\n\n#### Images\n![Seagull Just sitting](https://images.freeimages.com/images/large-previews/092/seagull-sitting-on-a-bollard-1639638.jpg)\n\n![Free ArtWork](https://images.freeimages.com/images/large-previews/1c1/links-1242361.jpg)\n\n![More Art](https://images.freeimages.com/images/large-previews/146/knotted-rope-1334279.jpg)\n    \n#### Code/Syntax Highlighting\n\n`Here is some code!`\n\n`Here is another line of code!`\n\n`Here is the final line of code!`\n\n#### Blocked Quotes\n\n<blockquote> The year is 2023 </blockquote>\n\n<blockquote> The current year in Ethiopia is 2015 </blockquote>\n\n<blockquote> Year of the Rabbit in the Chinese zodiac </blockquote>\n\n#### Strikethrough\n~~My Name is Efss~~\n\n~~This is a strike~~\n\n~~This is another strike~~\n\n\n\n\n     \n"
        },
        {
            "metadata": {},
            "cell_type": "code",
            "source": "",
            "execution_count": null,
            "outputs": []
        }
    ],
    "metadata": {
        "kernelspec": {
            "name": "python3",
            "display_name": "Python 3.10",
            "language": "python"
        },
        "language_info": {
            "name": "python",
            "version": "3.10.6",
            "mimetype": "text/x-python",
            "codemirror_mode": {
                "name": "ipython",
                "version": 3
            },
            "pygments_lexer": "ipython3",
            "nbconvert_exporter": "python",
            "file_extension": ".py"
        }
    },
    "nbformat": 4,
    "nbformat_minor": 1
}